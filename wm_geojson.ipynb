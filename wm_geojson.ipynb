{
 "cells": [
  {
   "cell_type": "code",
   "execution_count": 117,
   "metadata": {},
   "outputs": [],
   "source": [
    "# Convert shapefile coordinates to lat / long coordinates and\n",
    "# then to GeoJSON object.\n",
    "#\n",
    "# https://leafletjs.com/examples/geojson/\n",
    "#\n",
    "# get lat/lng coordinates from shapefile polygon\n",
    "# https://gis.stackexchange.com/questions/218774/how-to-extract-long-and-lat-from-geometry-column-in-geopandas?utm_medium=organic&utm_source=google_rich_qa&utm_campaign=google_rich_qa\n",
    "# https://automating-gis-processes.github.io/2016/Lesson3-point-in-polygon.html"
   ]
  },
  {
   "cell_type": "markdown",
   "metadata": {},
   "source": [
    "Brevard County's property appraiser site and downloaded a zip file that contained the shapesfiles for the cities within Brevard.  The file name is Cities.zip\n",
    "\n",
    "https://www.bcpao.us/PublicData.aspx\n",
    "\n",
    "Save the file and extract it's contents.  There are 4 files but the one I am interested in is cities.shp"
   ]
  },
  {
   "cell_type": "code",
   "execution_count": 118,
   "metadata": {},
   "outputs": [],
   "source": [
    "import geopandas as gpd\n",
    "import shapely\n",
    "import json"
   ]
  },
  {
   "cell_type": "code",
   "execution_count": 119,
   "metadata": {},
   "outputs": [],
   "source": [
    "file = '/home/curtis/mypy/data/brevard/cities.shp'"
   ]
  },
  {
   "cell_type": "code",
   "execution_count": 120,
   "metadata": {},
   "outputs": [
    {
     "data": {
      "text/plain": [
       "0              Cocoa Beach\n",
       "1                Rockledge\n",
       "2          Satellite Beach\n",
       "3     Indian Harbour Beach\n",
       "4              Indialantic\n",
       "5          Melbourne Beach\n",
       "6                  Malabar\n",
       "7              Palm Shores\n",
       "8        Melbourne Village\n",
       "9                    Cocoa\n",
       "10          Grant-Valkaria\n",
       "11          Cape Canaveral\n",
       "12               Melbourne\n",
       "13              Titusville\n",
       "14               Rockledge\n",
       "15               Rockledge\n",
       "16          West Melbourne\n",
       "17             Palm Shores\n",
       "18               Melbourne\n",
       "19               Melbourne\n",
       "20          West Melbourne\n",
       "21          West Melbourne\n",
       "22                Palm Bay\n",
       "23          West Melbourne\n",
       "24                Palm Bay\n",
       "Name: CITY_NAME, dtype: object"
      ]
     },
     "execution_count": 120,
     "metadata": {},
     "output_type": "execute_result"
    }
   ],
   "source": [
    "cities = gpd.read_file(file)\n",
    "cities['CITY_NAME']"
   ]
  },
  {
   "cell_type": "code",
   "execution_count": 121,
   "metadata": {},
   "outputs": [],
   "source": [
    "wm = cities[ cities['CITY_NAME'] == 'Indialantic']\n",
    "wm_lat_lng = wm.to_crs(epsg=4326)"
   ]
  },
  {
   "cell_type": "code",
   "execution_count": 122,
   "metadata": {},
   "outputs": [],
   "source": [
    "geojson_file = 'indialantic.js'"
   ]
  },
  {
   "cell_type": "code",
   "execution_count": 123,
   "metadata": {
    "scrolled": true
   },
   "outputs": [],
   "source": [
    "poly_lines = []\n",
    "multi_lines = []\n",
    "mpoly = []\n",
    "for index, row in wm_lat_lng.iterrows():\n",
    "    poly = []\n",
    "    if isinstance(row.geometry, shapely.geometry.polygon.Polygon):\n",
    "        for pt in list(row['geometry'].exterior.coords):\n",
    "            point = []\n",
    "            # for Leaflet & geoJSON use (lat, lng)\n",
    "            point.append(pt[1]) # long coordinate\n",
    "            point.append(pt[0]) # lat\n",
    "            poly.append(point)\n",
    "        poly_lines.append(poly)\n",
    "    elif isinstance(row.geometry, shapely.geometry.MultiPolygon):\n",
    "        for mp in row.geometry:\n",
    "            mpoly = []\n",
    "            for p in list(mp.exterior.coords):\n",
    "                mp = []\n",
    "                mp.append(p[1])\n",
    "                mp.append(p[0])\n",
    "                mpoly.append(mp)\n",
    "            poly_lines.append(mpoly)"
   ]
  },
  {
   "cell_type": "code",
   "execution_count": 124,
   "metadata": {},
   "outputs": [],
   "source": [
    "with open(geojson_file, 'w') as f:\n",
    "    num_poly_lines = len(poly_lines)\n",
    "    row_poly_lines = 0\n",
    "    f.write('[\\n')\n",
    "    for pl in poly_lines:\n",
    "        row_poly_lines = row_poly_lines + 1\n",
    "        num_rows = len(pl)\n",
    "        row_count = 0\n",
    "        f.write('\\t[\\n')\n",
    "        f.write('\\t\\t[\\n')\n",
    "        for pt in pl:\n",
    "            row_count = row_count + 1\n",
    "            if row_count != num_rows:\n",
    "                f.write('\\t\\t\\t[{},{}],\\n'.format(pt[0],pt[1]) )\n",
    "            else:\n",
    "                f.write('\\t\\t\\t[{},{}]\\n'.format(pt[0],pt[1]) )  \n",
    "        f.write('\\t\\t]\\n')\n",
    "        if row_poly_lines != num_poly_lines:\n",
    "            f.write('\\t],\\n')\n",
    "        else:\n",
    "            f.write('\\t]\\n')\n",
    "    f.write(']\\n')  "
   ]
  },
  {
   "cell_type": "code",
   "execution_count": null,
   "metadata": {},
   "outputs": [],
   "source": []
  }
 ],
 "metadata": {
  "kernelspec": {
   "display_name": "Python 3",
   "language": "python",
   "name": "python3"
  },
  "language_info": {
   "codemirror_mode": {
    "name": "ipython",
    "version": 3
   },
   "file_extension": ".py",
   "mimetype": "text/x-python",
   "name": "python",
   "nbconvert_exporter": "python",
   "pygments_lexer": "ipython3",
   "version": "3.6.9"
  }
 },
 "nbformat": 4,
 "nbformat_minor": 2
}
